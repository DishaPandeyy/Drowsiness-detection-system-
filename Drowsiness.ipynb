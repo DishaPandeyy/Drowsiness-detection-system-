{
 "cells": [
  {
   "cell_type": "code",
   "execution_count": 10,
   "id": "568f1013",
   "metadata": {},
   "outputs": [],
   "source": [
    "import cv2\n",
    "#from PIL import Image\n",
    "import numpy as np\n",
    "import dlib\n",
    "#import os\n",
    "from imutils import face_utils\n",
    "from pygame import mixer\n",
    "import time\n",
    "mixer.init()\n",
    "sound = mixer.Sound('beep-01a.wav')\n",
    "sound1 = mixer.Sound('audio1.wav')\n",
    "import requests"
   ]
  },
  {
   "cell_type": "code",
   "execution_count": 11,
   "id": "2bc48bd1",
   "metadata": {},
   "outputs": [],
   "source": [
    "TELEGRAM_BOT_TOKEN = '6932944274:AAE4_QsXcM-B-vdo6ytVVye4QHcwR9ZC-gw'\n",
    "TELEGRAM_CHAT_ID = '2072062838'\n",
    "\n",
    "\n",
    "\n",
    "def send_telegram_message(message):\n",
    "    send_text = f'https://api.telegram.org/bot{TELEGRAM_BOT_TOKEN}/sendMessage?chat_id={TELEGRAM_CHAT_ID}&parse_mode=Markdown&text={message}'\n",
    "    response = requests.get(send_text)\n",
    "    return response.json()\n",
    "\n",
    "\n"
   ]
  },
  {
   "cell_type": "code",
   "execution_count": 12,
   "id": "864956f6",
   "metadata": {},
   "outputs": [],
   "source": [
    "capture = cv2.VideoCapture(1)\n"
   ]
  },
  {
   "cell_type": "code",
   "execution_count": 13,
   "id": "ea4eb776",
   "metadata": {},
   "outputs": [],
   "source": [
    "detector = dlib.get_frontal_face_detector()\n",
    "predictor = dlib.shape_predictor(\"shape_predictor_68_face_landmarks.dat\")"
   ]
  },
  {
   "cell_type": "code",
   "execution_count": 14,
   "id": "f9a51fae",
   "metadata": {},
   "outputs": [],
   "source": [
    "#Id=input('enter your id')\n",
    "#sampleNum=0"
   ]
  },
  {
   "cell_type": "code",
   "execution_count": 15,
   "id": "8d8f046c",
   "metadata": {},
   "outputs": [],
   "source": [
    "sleep = 0\n",
    "drowsy = 0\n",
    "active = 0\n",
    "status=\"\"\n",
    "color=(255,0,255)"
   ]
  },
  {
   "cell_type": "code",
   "execution_count": 16,
   "id": "8117caba",
   "metadata": {},
   "outputs": [],
   "source": [
    "def compute(ptA,ptB):\n",
    "    dist = np.linalg.norm(ptA - ptB)\n",
    "    return dist"
   ]
  },
  {
   "cell_type": "code",
   "execution_count": 17,
   "id": "6633b105",
   "metadata": {},
   "outputs": [],
   "source": [
    "def blinked(a,b,c,d,e,f):\n",
    "    up = compute(b,d) + compute(c,e)\n",
    "    down = compute(a,f)\n",
    "    ratio = up/(2.0*down)\n",
    "\n",
    "    \n",
    "    if(ratio>0.25):\n",
    "        return 2\n",
    "    elif(ratio>0.21 and ratio<=0.25):\n",
    "        return 1\n",
    "    else:\n",
    "        return 0"
   ]
  },
  {
   "cell_type": "code",
   "execution_count": 18,
   "id": "d8a91063",
   "metadata": {},
   "outputs": [],
   "source": [
    "while True:\n",
    "    ret, frame = capture.read()\n",
    "    gray = cv2.cvtColor(frame, cv2.COLOR_BGR2GRAY)\n",
    "\n",
    "    faces = detector(gray)\n",
    "    \n",
    "    for face in faces:\n",
    "        x1 = face.left()\n",
    "        y1 = face.top()\n",
    "        x2 = face.right()\n",
    "        y2 = face.bottom()\n",
    "\n",
    "        face_frame = frame.copy()\n",
    "        cv2.rectangle(face_frame, (x1, y1), (x2, y2), (0, 255, 0), 2)\n",
    "        cv2.rectangle(frame, (x1, y1), (x2, y2), (255, 255, 0), 5)\n",
    "\n",
    "        landmarks = predictor(gray, face)\n",
    "        landmarks = face_utils.shape_to_np(landmarks)\n",
    "\n",
    "\n",
    "        left_blink = blinked(landmarks[36],landmarks[37], \n",
    "            landmarks[38], landmarks[41], landmarks[40], landmarks[39])\n",
    "        right_blink = blinked(landmarks[42],landmarks[43], \n",
    "            landmarks[44], landmarks[47], landmarks[46], landmarks[45])\n",
    "\n",
    "\n",
    "\n",
    "        if(left_blink==0 or right_blink==0):\n",
    "            sleep+=1\n",
    "            drowsy=0\n",
    "            active=0\n",
    "            if(sleep>6):\n",
    "                status=\"SLEEPING zZZ!!\"\n",
    "                color = (255,125,14)\n",
    "                send_telegram_message(\"Warning!, you are  sleeping bro . Please wake up it's time to study. \")\n",
    "                \n",
    "                try:\n",
    "                    sound.play()\n",
    "                except: \n",
    "                    isplaying = False\n",
    "                    pass\n",
    "                    \n",
    "        elif(left_blink==1 or right_blink==1):\n",
    "            sleep=0\n",
    "            active=0\n",
    "            drowsy+=1\n",
    "            if(drowsy>6):\n",
    "                status=\"Drowsy !!!\"\n",
    "                color = (16,79,255)\n",
    "                send_telegram_message(\"Please don't sleep bro, it's time to do something in the future\")\n",
    "                try:\n",
    "                    sound1.play()\n",
    "                except: \n",
    "                    isplaying = False\n",
    "                    pass\n",
    "\n",
    "        else:\n",
    "            drowsy=0\n",
    "            sleep=0\n",
    "            active+=1\n",
    "            if(active>6):\n",
    "                status=\"Active :)\"\n",
    "                color = (133,255,28)\n",
    "            #print(status);\n",
    "\n",
    "        cv2.putText(frame, status, (100,100), cv2.FONT_HERSHEY_COMPLEX_SMALL, 2, color,5)\n",
    "\n",
    "        for n in range(0, 68):\n",
    "            (x,y) = landmarks[n]\n",
    "            cv2.circle(face_frame, (x, y), 1, (255, 255, 255), -1)\n",
    "    #cv2.imwrite(\"dataSet/User.\"+Id +'.'+ str(sampleNum) + \".jpg\", gray[y:y2,x:x2])\n",
    "    #sampleNum=sampleNum+\n",
    "    cv2.imshow(\"Drowsiness detection\", frame)\n",
    "    #cv2.imshow(\"Result of detector\", face_frame)\n",
    "    key = cv2.waitKey(1)\n",
    "    if key == 27:\n",
    "        break\n",
    "\n",
    "cv2.destroyAllWindows()\n",
    "capture.release()"
   ]
  },
  {
   "cell_type": "code",
   "execution_count": null,
   "id": "2e029e79",
   "metadata": {},
   "outputs": [],
   "source": []
  },
  {
   "cell_type": "code",
   "execution_count": null,
   "id": "8132c7f9",
   "metadata": {},
   "outputs": [],
   "source": []
  }
 ],
 "metadata": {
  "kernelspec": {
   "display_name": "Python 3 (ipykernel)",
   "language": "python",
   "name": "python3"
  },
  "language_info": {
   "codemirror_mode": {
    "name": "ipython",
    "version": 3
   },
   "file_extension": ".py",
   "mimetype": "text/x-python",
   "name": "python",
   "nbconvert_exporter": "python",
   "pygments_lexer": "ipython3",
   "version": "3.10.9"
  }
 },
 "nbformat": 4,
 "nbformat_minor": 5
}
